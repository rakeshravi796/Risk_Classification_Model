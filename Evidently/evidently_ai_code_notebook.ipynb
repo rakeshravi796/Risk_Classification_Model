{
 "cells": [
  {
   "cell_type": "code",
   "execution_count": 1,
   "id": "f77b3959",
   "metadata": {},
   "outputs": [],
   "source": [
    "import pandas as pd\n",
    "from sklearn.model_selection import train_test_split\n",
    "import json"
   ]
  },
  {
   "cell_type": "code",
   "execution_count": 2,
   "id": "fc6e42f0",
   "metadata": {},
   "outputs": [],
   "source": [
    "df = pd.read_excel(r\"C:\\Users\\Minfy\\Downloads\\Datasets\\Bank_Personal_Loan_Modelling.xlsx\" , sheet_name=\"Data\")\n",
    "new_df = pd.read_csv(r\"C:\\Users\\Minfy\\Downloads\\New Customer Bank_Personal_Loan.csv\")"
   ]
  },
  {
   "cell_type": "code",
   "execution_count": 3,
   "id": "a22188cc",
   "metadata": {},
   "outputs": [],
   "source": [
    "# df.drop([\"Personal Loan\"] , inplace=True , axis=1)"
   ]
  },
  {
   "cell_type": "code",
   "execution_count": 4,
   "id": "aec718ae",
   "metadata": {},
   "outputs": [],
   "source": [
    "df.drop(['ID','ZIP Code','Personal Loan'] , inplace=True , axis=1)\n",
    "new_df.drop(['ID','ZIP Code'] , inplace=True , axis=1)\n"
   ]
  },
  {
   "cell_type": "code",
   "execution_count": 5,
   "id": "169a2ffc",
   "metadata": {},
   "outputs": [],
   "source": [
    "from evidently import Report\n",
    "from evidently.presets import DataDriftPreset"
   ]
  },
  {
   "cell_type": "code",
   "execution_count": 16,
   "id": "d9bbed67",
   "metadata": {},
   "outputs": [],
   "source": [
    "report = Report([DataDriftPreset()])"
   ]
  },
  {
   "cell_type": "code",
   "execution_count": 14,
   "id": "c8729542",
   "metadata": {},
   "outputs": [],
   "source": [
    "\n",
    "df_train , df_test = train_test_split(df)"
   ]
  },
  {
   "cell_type": "code",
   "execution_count": 17,
   "id": "ccae43d8",
   "metadata": {},
   "outputs": [],
   "source": [
    "df_train_test_eval = report.run(df_train,df_test) \n",
    "df_train_test_eval.save_html(\"df_train_test_eval.html\")"
   ]
  },
  {
   "cell_type": "code",
   "execution_count": 7,
   "id": "4acf5a6f",
   "metadata": {},
   "outputs": [],
   "source": [
    "report_new = Report([DataDriftPreset()])"
   ]
  },
  {
   "cell_type": "code",
   "execution_count": 22,
   "id": "ae5df610",
   "metadata": {},
   "outputs": [],
   "source": [
    "df_hist_df_new = report_new.run(df , new_df)\n",
    "df_hist_df_new.save_html(\"df_historical_vs_new_df.html\")"
   ]
  },
  {
   "cell_type": "markdown",
   "id": "4ab4a188",
   "metadata": {},
   "source": [
    "<h2> Code for adding New data vs Historical Data into MLflow </h2>"
   ]
  },
  {
   "cell_type": "code",
   "execution_count": 12,
   "id": "d28ae057",
   "metadata": {},
   "outputs": [
    {
     "name": "stderr",
     "output_type": "stream",
     "text": [
      "2025/07/03 09:30:47 INFO mlflow.tracking.fluent: Experiment with name 'evidently_historical_vs_newdata' does not exist. Creating a new experiment.\n",
      "2025/07/03 09:30:47 WARNING mlflow.utils.git_utils: Failed to import Git (the Git executable is probably not on your PATH), so Git SHA is not available. Error: Failed to initialize: Bad git executable.\n",
      "The git executable must be specified in one of the following ways:\n",
      "    - be included in your $PATH\n",
      "    - be set via $GIT_PYTHON_GIT_EXECUTABLE\n",
      "    - explicitly set via git.refresh(<full-path-to-git-executable>)\n",
      "\n",
      "All git commands will error until this is rectified.\n",
      "\n",
      "This initial message can be silenced or aggravated in the future by setting the\n",
      "$GIT_PYTHON_REFRESH environment variable. Use one of the following values:\n",
      "    - quiet|q|silence|s|silent|none|n|0: for no message or exception\n",
      "    - warn|w|warning|log|l|1: for a warning message (logging level CRITICAL, displayed by default)\n",
      "    - error|e|exception|raise|r|2: for a raised exception\n",
      "\n",
      "Example:\n",
      "    export GIT_PYTHON_REFRESH=quiet\n",
      "\n"
     ]
    },
    {
     "name": "stdout",
     "output_type": "stream",
     "text": [
      "{'count': 3.0, 'share': 0.2727272727272727}\n",
      "0.02418149798406314\n",
      "0.0754008440112274\n",
      "0.45251348912712985\n",
      "0.6104785358474184\n",
      "0.8776517059542743\n",
      "0.0\n",
      "1.7600161054519227e-124\n",
      "0.18613603663787415\n",
      "0.32616739833182207\n",
      "0.3050098088783806\n",
      "0.05348648711780135\n"
     ]
    }
   ],
   "source": [
    "import mlflow\n",
    "import re\n",
    "\n",
    "def sanitize_name(name):\n",
    "    return re.sub(r\"[^\\w\\-/ .]\", \"_\", name)\n",
    "\n",
    "\n",
    "report_data = json.loads(df_hist_df_new.json())\n",
    "\n",
    "mlflow.set_experiment(\"evidently_historical_vs_newdata\")\n",
    "with mlflow.start_run():\n",
    "    for i in report_data.get(\"metrics\", []):\n",
    "        metric_id = i.get(\"metric_id\", \"\")\n",
    "        value = i.get(\"value\", None)\n",
    "\n",
    "        if metric_id.startswith(\"Drifted\"):\n",
    "            mlflow.log_metric(\"Number_of_driftedcolumns\", value['count'])\n",
    "        else:\n",
    "           \n",
    "            clean_metric_id = sanitize_name(metric_id.lower().replace(\" \", \"_\"))\n",
    "            mlflow.log_metric(clean_metric_id, value)\n",
    "\n",
    "        print(value)"
   ]
  },
  {
   "cell_type": "markdown",
   "id": "4b745c6a",
   "metadata": {},
   "source": [
    "<h2> Code for adding Train vs Test data into MLflow </h2>"
   ]
  },
  {
   "cell_type": "code",
   "execution_count": 18,
   "id": "4dd4225e",
   "metadata": {},
   "outputs": [
    {
     "name": "stderr",
     "output_type": "stream",
     "text": [
      "2025/07/03 09:36:31 INFO mlflow.tracking.fluent: Experiment with name 'evidently_train_vs_test' does not exist. Creating a new experiment.\n"
     ]
    },
    {
     "name": "stdout",
     "output_type": "stream",
     "text": [
      "{'count': 0.0, 'share': 0.0}\n",
      "0.020227020569669282\n",
      "0.023285474959749086\n",
      "0.024561557448814313\n",
      "0.0653490515068191\n",
      "0.031389802479988814\n",
      "0.027762492322887137\n",
      "0.001554393449570352\n",
      "0.0006163137174247002\n",
      "0.003978384969377368\n",
      "0.016875768462873714\n",
      "0.009548903155295411\n"
     ]
    }
   ],
   "source": [
    "report_data = json.loads(df_train_test_eval.json())\n",
    "\n",
    "mlflow.set_experiment(\"evidently_train_vs_test\")\n",
    "with mlflow.start_run():\n",
    "    for i in report_data.get(\"metrics\", []):\n",
    "        metric_id = i.get(\"metric_id\", \"\")\n",
    "        value = i.get(\"value\", None)\n",
    "\n",
    "        if metric_id.startswith(\"Drifted\"):\n",
    "            mlflow.log_metric(\"Number_of_driftedcolumns\", value['count'])\n",
    "        else:\n",
    "           \n",
    "            clean_metric_id = sanitize_name(metric_id.lower().replace(\" \", \"_\"))\n",
    "            mlflow.log_metric(clean_metric_id, value)\n",
    "\n",
    "        print(value)"
   ]
  },
  {
   "cell_type": "code",
   "execution_count": null,
   "id": "8c275056",
   "metadata": {},
   "outputs": [],
   "source": []
  }
 ],
 "metadata": {
  "kernelspec": {
   "display_name": ".venv",
   "language": "python",
   "name": "python3"
  },
  "language_info": {
   "codemirror_mode": {
    "name": "ipython",
    "version": 3
   },
   "file_extension": ".py",
   "mimetype": "text/x-python",
   "name": "python",
   "nbconvert_exporter": "python",
   "pygments_lexer": "ipython3",
   "version": "3.13.3"
  }
 },
 "nbformat": 4,
 "nbformat_minor": 5
}
